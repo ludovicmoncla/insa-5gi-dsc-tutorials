{
  "cells": [
    {
      "cell_type": "markdown",
      "metadata": {
        "id": "ocGaAXGq7vLI"
      },
      "source": [
        "![INSA](https://gi.insa-lyon.fr/sites/all/themes/insa_satellites/logo.png)\n",
        "\n",
        "# GI-5-DSC - Data Science: Introduction to data exploration & visualization\n",
        "***\n",
        "\n",
        "\n",
        "The purpose of this tutorial is to familiarize ourselves with data exploration and visualization. \n",
        "We will start using Python libraries to manipulate data.\n",
        "For that, we will work on a case study which consists in the analysis of the data of the Lyon Metropole bike sharing platform (Vélo'v). \n",
        "\n",
        "The data we are going to use come from the [Grand Lyon open data platform](https://data.grandlyon.com). They are made available free of charge by Lyon Metropole and can be downloaded in different formats: https://data.grandlyon.com/jeux-de-donnees/historique-disponibilites-stations-velo-v-metropole-lyon/donnees.\n",
        "\n",
        "From the Grand Lyon website, only the last 7 days are available.\n",
        "\n",
        "\n",
        "![site du grand lyon](https://perso.liris.cnrs.fr/lmoncla/GI-5-DSC/fig/grandlyon.png)\n",
        "\n",
        "\n",
        "In this tutorial, you will have at your disposal the entire dataset for the year 2021.\n",
        "\n",
        "\n",
        "The objectives of this tutorial are: \n",
        "\n",
        "* Load the dataset into a dataframe\n",
        "* Explore and visualize the data\n",
        "* Analyze the data: query the dataset to generate graphs and maps\n",
        "\n",
        "\n",
        "***\n",
        "\n"
      ]
    },
    {
      "cell_type": "markdown",
      "metadata": {
        "id": "73515Xuv7vLO"
      },
      "source": [
        "## 1. Set up the environment: \n",
        "\n"
      ]
    },
    {
      "cell_type": "markdown",
      "source": [
        "### 1.1. Google Colab users : download missing python libraries"
      ],
      "metadata": {
        "id": "R_q9pa0WC2LS"
      }
    },
    {
      "cell_type": "code",
      "source": [
        "!pip install geopandas"
      ],
      "metadata": {
        "colab": {
          "base_uri": "https://localhost:8080/"
        },
        "id": "gCAxkBlZCzBN",
        "outputId": "bec12912-3aca-487b-97ef-d8393beb4776"
      },
      "execution_count": 1,
      "outputs": [
        {
          "output_type": "stream",
          "name": "stdout",
          "text": [
            "Looking in indexes: https://pypi.org/simple, https://us-python.pkg.dev/colab-wheels/public/simple/\n",
            "Requirement already satisfied: geopandas in /usr/local/lib/python3.7/dist-packages (0.10.2)\n",
            "Requirement already satisfied: pyproj>=2.2.0 in /usr/local/lib/python3.7/dist-packages (from geopandas) (3.2.1)\n",
            "Requirement already satisfied: shapely>=1.6 in /usr/local/lib/python3.7/dist-packages (from geopandas) (1.8.4)\n",
            "Requirement already satisfied: pandas>=0.25.0 in /usr/local/lib/python3.7/dist-packages (from geopandas) (1.3.5)\n",
            "Requirement already satisfied: fiona>=1.8 in /usr/local/lib/python3.7/dist-packages (from geopandas) (1.8.21)\n",
            "Requirement already satisfied: munch in /usr/local/lib/python3.7/dist-packages (from fiona>=1.8->geopandas) (2.5.0)\n",
            "Requirement already satisfied: cligj>=0.5 in /usr/local/lib/python3.7/dist-packages (from fiona>=1.8->geopandas) (0.7.2)\n",
            "Requirement already satisfied: certifi in /usr/local/lib/python3.7/dist-packages (from fiona>=1.8->geopandas) (2022.6.15)\n",
            "Requirement already satisfied: click-plugins>=1.0 in /usr/local/lib/python3.7/dist-packages (from fiona>=1.8->geopandas) (1.1.1)\n",
            "Requirement already satisfied: setuptools in /usr/local/lib/python3.7/dist-packages (from fiona>=1.8->geopandas) (57.4.0)\n",
            "Requirement already satisfied: six>=1.7 in /usr/local/lib/python3.7/dist-packages (from fiona>=1.8->geopandas) (1.15.0)\n",
            "Requirement already satisfied: attrs>=17 in /usr/local/lib/python3.7/dist-packages (from fiona>=1.8->geopandas) (22.1.0)\n",
            "Requirement already satisfied: click>=4.0 in /usr/local/lib/python3.7/dist-packages (from fiona>=1.8->geopandas) (7.1.2)\n",
            "Requirement already satisfied: numpy>=1.17.3 in /usr/local/lib/python3.7/dist-packages (from pandas>=0.25.0->geopandas) (1.21.6)\n",
            "Requirement already satisfied: python-dateutil>=2.7.3 in /usr/local/lib/python3.7/dist-packages (from pandas>=0.25.0->geopandas) (2.8.2)\n",
            "Requirement already satisfied: pytz>=2017.3 in /usr/local/lib/python3.7/dist-packages (from pandas>=0.25.0->geopandas) (2022.2.1)\n"
          ]
        }
      ]
    },
    {
      "cell_type": "markdown",
      "source": [
        "### 1.2 Import libraries"
      ],
      "metadata": {
        "id": "sGewl_5YCyOg"
      }
    },
    {
      "cell_type": "code",
      "execution_count": 5,
      "metadata": {
        "id": "QOWuVaZO7vLO"
      },
      "outputs": [],
      "source": [
        "import pandas as pd\n",
        "import numpy as np\n",
        "import matplotlib.pyplot as plt\n",
        "from datetime import datetime, timezone\n",
        "\n",
        "import folium\n",
        "import plotly\n",
        "import plotly.express as px\n",
        "import geopandas\n",
        "\n",
        "path = 'data/'"
      ]
    },
    {
      "cell_type": "markdown",
      "source": [
        "### 1.3. Google Colab users : download datasets"
      ],
      "metadata": {
        "id": "peUT5RumCL5X"
      }
    },
    {
      "cell_type": "code",
      "source": [
        "! wget https://github.com/ludovicmoncla/insa-5gi-dsc-tutorials/blob/main/data/data-bikes.zip\n",
        "! wget https://github.com/ludovicmoncla/insa-5gi-dsc-tutorials/blob/main/data/data-stations.zip\n",
        "\n",
        "path = ''"
      ],
      "metadata": {
        "colab": {
          "base_uri": "https://localhost:8080/"
        },
        "id": "Awj6s3IPCKuw",
        "outputId": "15c9a613-4ed2-47c8-da74-ec73b9872ee6"
      },
      "execution_count": 3,
      "outputs": [
        {
          "output_type": "stream",
          "name": "stdout",
          "text": [
            "--2022-10-04 08:13:21--  https://github.com/ludovicmoncla/insa-5gi-dsc-tutorials/blob/main/data/data-bikes.zip\n",
            "Resolving github.com (github.com)... 20.27.177.113\n",
            "Connecting to github.com (github.com)|20.27.177.113|:443... connected.\n",
            "HTTP request sent, awaiting response... 200 OK\n",
            "Length: unspecified [text/html]\n",
            "Saving to: ‘data-bikes.zip.2’\n",
            "\n",
            "data-bikes.zip.2        [ <=>                ] 140.74K   863KB/s    in 0.2s    \n",
            "\n",
            "2022-10-04 08:13:21 (863 KB/s) - ‘data-bikes.zip.2’ saved [144120]\n",
            "\n",
            "--2022-10-04 08:13:22--  https://github.com/ludovicmoncla/insa-5gi-dsc-tutorials/blob/main/data/data-stations.zip\n",
            "Resolving github.com (github.com)... 20.27.177.113\n",
            "Connecting to github.com (github.com)|20.27.177.113|:443... connected.\n",
            "HTTP request sent, awaiting response... 200 OK\n",
            "Length: unspecified [text/html]\n",
            "Saving to: ‘data-stations.zip.1’\n",
            "\n",
            "data-stations.zip.1     [ <=>                ] 136.26K   840KB/s    in 0.2s    \n",
            "\n",
            "2022-10-04 08:13:22 (840 KB/s) - ‘data-stations.zip.1’ saved [139533]\n",
            "\n"
          ]
        }
      ]
    },
    {
      "cell_type": "markdown",
      "metadata": {
        "id": "ud0LEjB07vLP"
      },
      "source": [
        "## 2. Getting the data\n",
        "\n",
        "To overcome the limit of 7 days of availability on the Grand Lyon website, I have developed a script that automatically retrieves and stores the data every day. You will thus have access to the data for the whole year 2021. \n",
        "I also propose the data in a CSV format (easier to load into a dataframe than the original JSON format). \n",
        "\n",
        "\n",
        "If you cloned the [github repository](https://github.com/ludovicmoncla/insa-5gi-dsc-tutorials) you already have the data and you can go directly to section 2.2.\n",
        "\n",
        "\n",
        "### 2.1 Download the data\n",
        "\n",
        "All the data used in this tutorial are available on the `data` folder of the [github repository](https://github.com/ludovicmoncla/insa-5gi-dsc-tutorials/tree/main/data).\n",
        "\n",
        "* Download the two zip files containing the data:\n",
        "1. data-stations.zip\n",
        "2. data-bikes.zip\n",
        "\n",
        "These 2 zip files contain a CSV file containing respectively the list of velov stations (and their location) and the list of availabilities of each station by 30 minutes.\n",
        "\n"
      ]
    },
    {
      "cell_type": "markdown",
      "metadata": {
        "id": "Jbn4KzOC7vLP"
      },
      "source": [
        "### 2.2. Load the data\n",
        "\n",
        "\n",
        "In this tutorial we will not use a DBMS. The objective is to load the data in memory into a Python structure and to query it directly. \n",
        "\n",
        "There are two types of data:\n",
        "1. vélo'v stations (station id, latitude, longitude),\n",
        "2. their history (station id, year, month, day, hour, minute, date, bikes available, available slots).\n",
        "\n",
        "To manipulate these data we will use the  [dataframes](https://pandas.pydata.org/pandas-docs/stable/reference/api/pandas.DataFrame.html) of the Pandas library.\n",
        "\n",
        "Pandas is a Python library specialized in data analysis and manipulation. It provides in particular an object of type 'dataframe' which makes it possible to carry out operations of preprocessing and filtering which we will use to request the data.\n",
        "\n",
        "The first objectives are the following:\n",
        "\n",
        "1. To store in a first dataframe the list of velo'v stations and their associated latitude / longitude coordinates.\n",
        "2. To store in a second dataframe for each station and each timestamp the following data: \n",
        "    * id of the station\n",
        "    * year\n",
        "    * month\n",
        "    * day\n",
        "    * hour\n",
        "    * minute\n",
        "    * complete date (original format)\n",
        "    * number of available bikes\n",
        "    * number of free slots\n",
        "    * number of departures in the last 30 minutes\n",
        "    * number of arrivals in the last 30 minutes\n",
        "\n",
        "To load the data you just have to use the method [read_csv()](https://pandas.pydata.org/pandas-docs/stable/reference/api/pandas.read_csv.html#pandas.read_csv) of the `Pandas` library. It takes as a parameter the path of the file you want to load. This file can be of 2 formats, either directly a CSV file, or a ZIP file containing a CSV. In our case, it is useless to unzip the previously downloaded archives.\n",
        "\n"
      ]
    },
    {
      "cell_type": "code",
      "execution_count": 6,
      "metadata": {
        "tags": [],
        "id": "DNhDfcV-7vLQ"
      },
      "outputs": [],
      "source": [
        "## Load the data from the stations into a dataframe\n",
        "df_stations = pd.read_csv(path + 'data-stations.zip')\n",
        "\n",
        "## Create the dataframe with the history data\n",
        "df_bikes = pd.read_csv(path + 'data-bikes.zip')"
      ]
    },
    {
      "cell_type": "code",
      "execution_count": 7,
      "metadata": {
        "colab": {
          "base_uri": "https://localhost:8080/"
        },
        "id": "0xRyUNvN7vLQ",
        "outputId": "3f7c1c02-e7ce-4790-c717-b6b6fafaf8be"
      },
      "outputs": [
        {
          "output_type": "execute_result",
          "data": {
            "text/plain": [
              "pandas.core.frame.DataFrame"
            ]
          },
          "metadata": {},
          "execution_count": 7
        }
      ],
      "source": [
        "## Check the type of our variable\n",
        "type(df_stations)"
      ]
    },
    {
      "cell_type": "code",
      "execution_count": 8,
      "metadata": {
        "colab": {
          "base_uri": "https://localhost:8080/"
        },
        "id": "MAagTNJB7vLR",
        "outputId": "d7876582-a010-4457-a9e4-b08ce25aa4b7"
      },
      "outputs": [
        {
          "output_type": "execute_result",
          "data": {
            "text/plain": [
              "Index(['id_velov', 'latitude', 'longitude'], dtype='object')"
            ]
          },
          "metadata": {},
          "execution_count": 8
        }
      ],
      "source": [
        "## Display the list of columns\n",
        "df_stations.columns"
      ]
    },
    {
      "cell_type": "code",
      "execution_count": 9,
      "metadata": {
        "colab": {
          "base_uri": "https://localhost:8080/",
          "height": 204
        },
        "id": "bAOJed5x7vLR",
        "outputId": "cf156a12-39d0-43d6-8d95-1ca30f0d5d99"
      },
      "outputs": [
        {
          "output_type": "execute_result",
          "data": {
            "text/plain": [
              "      id_velov   latitude  longitude\n",
              "0  velov-10056  45.779112   4.871952\n",
              "1   velov-9013  45.787384   4.814374\n",
              "2   velov-5044  45.759797   4.796627\n",
              "3   velov-9014  45.783341   4.811433\n",
              "4  velov-10058  45.767126   4.892150"
            ],
            "text/html": [
              "\n",
              "  <div id=\"df-1b963283-2d85-40f1-a92c-6e3b3856e2af\">\n",
              "    <div class=\"colab-df-container\">\n",
              "      <div>\n",
              "<style scoped>\n",
              "    .dataframe tbody tr th:only-of-type {\n",
              "        vertical-align: middle;\n",
              "    }\n",
              "\n",
              "    .dataframe tbody tr th {\n",
              "        vertical-align: top;\n",
              "    }\n",
              "\n",
              "    .dataframe thead th {\n",
              "        text-align: right;\n",
              "    }\n",
              "</style>\n",
              "<table border=\"1\" class=\"dataframe\">\n",
              "  <thead>\n",
              "    <tr style=\"text-align: right;\">\n",
              "      <th></th>\n",
              "      <th>id_velov</th>\n",
              "      <th>latitude</th>\n",
              "      <th>longitude</th>\n",
              "    </tr>\n",
              "  </thead>\n",
              "  <tbody>\n",
              "    <tr>\n",
              "      <th>0</th>\n",
              "      <td>velov-10056</td>\n",
              "      <td>45.779112</td>\n",
              "      <td>4.871952</td>\n",
              "    </tr>\n",
              "    <tr>\n",
              "      <th>1</th>\n",
              "      <td>velov-9013</td>\n",
              "      <td>45.787384</td>\n",
              "      <td>4.814374</td>\n",
              "    </tr>\n",
              "    <tr>\n",
              "      <th>2</th>\n",
              "      <td>velov-5044</td>\n",
              "      <td>45.759797</td>\n",
              "      <td>4.796627</td>\n",
              "    </tr>\n",
              "    <tr>\n",
              "      <th>3</th>\n",
              "      <td>velov-9014</td>\n",
              "      <td>45.783341</td>\n",
              "      <td>4.811433</td>\n",
              "    </tr>\n",
              "    <tr>\n",
              "      <th>4</th>\n",
              "      <td>velov-10058</td>\n",
              "      <td>45.767126</td>\n",
              "      <td>4.892150</td>\n",
              "    </tr>\n",
              "  </tbody>\n",
              "</table>\n",
              "</div>\n",
              "      <button class=\"colab-df-convert\" onclick=\"convertToInteractive('df-1b963283-2d85-40f1-a92c-6e3b3856e2af')\"\n",
              "              title=\"Convert this dataframe to an interactive table.\"\n",
              "              style=\"display:none;\">\n",
              "        \n",
              "  <svg xmlns=\"http://www.w3.org/2000/svg\" height=\"24px\"viewBox=\"0 0 24 24\"\n",
              "       width=\"24px\">\n",
              "    <path d=\"M0 0h24v24H0V0z\" fill=\"none\"/>\n",
              "    <path d=\"M18.56 5.44l.94 2.06.94-2.06 2.06-.94-2.06-.94-.94-2.06-.94 2.06-2.06.94zm-11 1L8.5 8.5l.94-2.06 2.06-.94-2.06-.94L8.5 2.5l-.94 2.06-2.06.94zm10 10l.94 2.06.94-2.06 2.06-.94-2.06-.94-.94-2.06-.94 2.06-2.06.94z\"/><path d=\"M17.41 7.96l-1.37-1.37c-.4-.4-.92-.59-1.43-.59-.52 0-1.04.2-1.43.59L10.3 9.45l-7.72 7.72c-.78.78-.78 2.05 0 2.83L4 21.41c.39.39.9.59 1.41.59.51 0 1.02-.2 1.41-.59l7.78-7.78 2.81-2.81c.8-.78.8-2.07 0-2.86zM5.41 20L4 18.59l7.72-7.72 1.47 1.35L5.41 20z\"/>\n",
              "  </svg>\n",
              "      </button>\n",
              "      \n",
              "  <style>\n",
              "    .colab-df-container {\n",
              "      display:flex;\n",
              "      flex-wrap:wrap;\n",
              "      gap: 12px;\n",
              "    }\n",
              "\n",
              "    .colab-df-convert {\n",
              "      background-color: #E8F0FE;\n",
              "      border: none;\n",
              "      border-radius: 50%;\n",
              "      cursor: pointer;\n",
              "      display: none;\n",
              "      fill: #1967D2;\n",
              "      height: 32px;\n",
              "      padding: 0 0 0 0;\n",
              "      width: 32px;\n",
              "    }\n",
              "\n",
              "    .colab-df-convert:hover {\n",
              "      background-color: #E2EBFA;\n",
              "      box-shadow: 0px 1px 2px rgba(60, 64, 67, 0.3), 0px 1px 3px 1px rgba(60, 64, 67, 0.15);\n",
              "      fill: #174EA6;\n",
              "    }\n",
              "\n",
              "    [theme=dark] .colab-df-convert {\n",
              "      background-color: #3B4455;\n",
              "      fill: #D2E3FC;\n",
              "    }\n",
              "\n",
              "    [theme=dark] .colab-df-convert:hover {\n",
              "      background-color: #434B5C;\n",
              "      box-shadow: 0px 1px 3px 1px rgba(0, 0, 0, 0.15);\n",
              "      filter: drop-shadow(0px 1px 2px rgba(0, 0, 0, 0.3));\n",
              "      fill: #FFFFFF;\n",
              "    }\n",
              "  </style>\n",
              "\n",
              "      <script>\n",
              "        const buttonEl =\n",
              "          document.querySelector('#df-1b963283-2d85-40f1-a92c-6e3b3856e2af button.colab-df-convert');\n",
              "        buttonEl.style.display =\n",
              "          google.colab.kernel.accessAllowed ? 'block' : 'none';\n",
              "\n",
              "        async function convertToInteractive(key) {\n",
              "          const element = document.querySelector('#df-1b963283-2d85-40f1-a92c-6e3b3856e2af');\n",
              "          const dataTable =\n",
              "            await google.colab.kernel.invokeFunction('convertToInteractive',\n",
              "                                                     [key], {});\n",
              "          if (!dataTable) return;\n",
              "\n",
              "          const docLinkHtml = 'Like what you see? Visit the ' +\n",
              "            '<a target=\"_blank\" href=https://colab.research.google.com/notebooks/data_table.ipynb>data table notebook</a>'\n",
              "            + ' to learn more about interactive tables.';\n",
              "          element.innerHTML = '';\n",
              "          dataTable['output_type'] = 'display_data';\n",
              "          await google.colab.output.renderOutput(dataTable, element);\n",
              "          const docLink = document.createElement('div');\n",
              "          docLink.innerHTML = docLinkHtml;\n",
              "          element.appendChild(docLink);\n",
              "        }\n",
              "      </script>\n",
              "    </div>\n",
              "  </div>\n",
              "  "
            ]
          },
          "metadata": {},
          "execution_count": 9
        }
      ],
      "source": [
        "## Print the five first rows\n",
        "df_stations.head()"
      ]
    },
    {
      "cell_type": "markdown",
      "metadata": {
        "id": "iC7yknaF7vLR"
      },
      "source": [
        "* How many velo'v stations are there ?"
      ]
    },
    {
      "cell_type": "code",
      "execution_count": null,
      "metadata": {
        "id": "FqcbYK4_7vLS"
      },
      "outputs": [],
      "source": [
        "## Show the size of the dataframe\n",
        "## The shape method returns the dimensions (rows / columns)\n",
        "print(df_stations.shape)\n",
        "\n",
        "## The len() function returns the number of rows\n",
        "print(len(df_stations))"
      ]
    },
    {
      "cell_type": "code",
      "execution_count": null,
      "metadata": {
        "id": "dWvQ4Ol17vLS"
      },
      "outputs": [],
      "source": [
        "## Show the first rows\n",
        "df_bikes.head()"
      ]
    },
    {
      "cell_type": "markdown",
      "metadata": {
        "id": "wUvcagTM7vLS"
      },
      "source": [
        "### 2.2. First look at the history data"
      ]
    },
    {
      "cell_type": "code",
      "execution_count": null,
      "metadata": {
        "id": "fLjMvwYG7vLS"
      },
      "outputs": [],
      "source": [
        "## Display some information about the data\n",
        "df_bikes.info()"
      ]
    },
    {
      "cell_type": "code",
      "execution_count": null,
      "metadata": {
        "id": "F1jY2ep47vLT"
      },
      "outputs": [],
      "source": [
        "# Reduction of the size in memory\n",
        "## we transform the type of the columns into integer or float when it is necessary\n",
        "df_bikes.bikes = df_bikes.bikes.apply(lambda x: int(float(x)))\n",
        "df_bikes.bike_stands = df_bikes.bike_stands.apply(lambda x: np.int32(float(x)))\n",
        "\n",
        "df_bikes['year'] = df_bikes['year'].astype('int16')\n",
        "df_bikes[['month','day','hour','minute', 'bikes', 'bike_stands', 'departure30min','arrival30min']] = df_bikes[['month','day','hour','minute', 'bikes', 'bike_stands', 'departure30min','arrival30min']].astype('int8')\n"
      ]
    },
    {
      "cell_type": "code",
      "execution_count": null,
      "metadata": {
        "id": "cliiDciq7vLT"
      },
      "outputs": [],
      "source": [
        "## Display some information about the data\n",
        "df_bikes.info()"
      ]
    },
    {
      "cell_type": "code",
      "execution_count": null,
      "metadata": {
        "id": "7y5pf1ca7vLT"
      },
      "outputs": [],
      "source": [
        "## Display some stats about the dataframe\n",
        "df_bikes.describe()"
      ]
    },
    {
      "cell_type": "code",
      "execution_count": null,
      "metadata": {
        "id": "SXSJkmRF7vLT"
      },
      "outputs": [],
      "source": [
        "## Show 5 rows randomly selected\n",
        "df_bikes.sample(5)"
      ]
    },
    {
      "cell_type": "markdown",
      "metadata": {
        "id": "2Q9-57UU7vLU"
      },
      "source": [
        "### 2.3. Handling of a dataframe"
      ]
    },
    {
      "cell_type": "code",
      "execution_count": null,
      "metadata": {
        "id": "clRcTc4h7vLU"
      },
      "outputs": [],
      "source": [
        "## Get data from one column\n",
        "df_bikes['time']"
      ]
    },
    {
      "cell_type": "code",
      "execution_count": null,
      "metadata": {
        "id": "0ZSCPJ787vLU"
      },
      "outputs": [],
      "source": [
        "## Get data from one column (other method using .)\n",
        "df_bikes.time"
      ]
    },
    {
      "cell_type": "code",
      "execution_count": null,
      "metadata": {
        "id": "dAt2o4Q77vLV"
      },
      "outputs": [],
      "source": [
        "## Get data from a list of columns\n",
        "df_bikes[['time', 'bikes']]"
      ]
    },
    {
      "cell_type": "code",
      "execution_count": null,
      "metadata": {
        "id": "Fx6OLquY7vLV"
      },
      "outputs": [],
      "source": [
        "## Get the value from a set of column as a numpy array\n",
        "df_bikes[['time', 'bikes']].values"
      ]
    },
    {
      "cell_type": "markdown",
      "metadata": {
        "id": "7bIGE5jL7vLV"
      },
      "source": [
        "A column (or variable) is a data vector (Series in the Pandas library terminology)."
      ]
    },
    {
      "cell_type": "code",
      "execution_count": null,
      "metadata": {
        "id": "MlC1UrrR7vLW"
      },
      "outputs": [],
      "source": [
        "## Display the first values of a specific column\n",
        "df_bikes['time'].head()"
      ]
    },
    {
      "cell_type": "code",
      "execution_count": null,
      "metadata": {
        "id": "TCrBk-c_7vLW"
      },
      "outputs": [],
      "source": [
        "## Display the last values of a specific column\n",
        "df_bikes['time'].tail()"
      ]
    },
    {
      "cell_type": "code",
      "execution_count": null,
      "metadata": {
        "id": "GesA1XHi7vLW"
      },
      "outputs": [],
      "source": [
        "## Sort the values from a specific column\n",
        "df_bikes['time'].sort_values()"
      ]
    },
    {
      "cell_type": "code",
      "execution_count": null,
      "metadata": {
        "id": "B8_AHtse7vLX"
      },
      "outputs": [],
      "source": [
        "## We can also sort an entire dataframe\n",
        "## Sort the dataframe using the station id and the time\n",
        "df_bikes.sort_values(by=['id_velov', 'time'])"
      ]
    },
    {
      "cell_type": "code",
      "execution_count": null,
      "metadata": {
        "id": "nbj23a-Z7vLX"
      },
      "outputs": [],
      "source": [
        "## Alternative to reset the row indexes to zero\n",
        "df_bikes = df_bikes.sort_values(by=['id_velov', 'time']).reset_index(drop=True)\n",
        "df_bikes"
      ]
    },
    {
      "cell_type": "code",
      "execution_count": null,
      "metadata": {
        "id": "T69JqFcy7vLX"
      },
      "outputs": [],
      "source": [
        "## Display the number of rows for each distinct value in a specific column\n",
        "df_bikes['id_velov'].value_counts()"
      ]
    },
    {
      "cell_type": "code",
      "execution_count": null,
      "metadata": {
        "id": "27UBhWJQ7vLY"
      },
      "outputs": [],
      "source": [
        "## A column being a vector it is possible to use indices to access the elements\n",
        "## Display of the first value of the time column\n",
        "df_bikes['time'][0]"
      ]
    },
    {
      "cell_type": "code",
      "execution_count": null,
      "metadata": {
        "id": "HhjPbDFH7vLZ"
      },
      "outputs": [],
      "source": [
        "## Display of the first 3 values of the time column\n",
        "df_bikes['time'][0:3]"
      ]
    },
    {
      "cell_type": "markdown",
      "metadata": {
        "id": "6x-oxYnP7vLZ"
      },
      "source": [
        "#### 2.3.1 Iterate over columns\n",
        "\n",
        "Iterations on variables can be done via a loop, or via the use of callback functions called with an `.apply()` function.\n"
      ]
    },
    {
      "cell_type": "code",
      "execution_count": null,
      "metadata": {
        "id": "vOXLs-HX7vLa"
      },
      "outputs": [],
      "source": [
        "## Loop over all columns to display their name and type\n",
        "for col in df_bikes.columns:\n",
        "    print(col, \": \", df_bikes[col].dtype)"
      ]
    },
    {
      "cell_type": "markdown",
      "metadata": {
        "id": "Aze69IAR7vLb"
      },
      "source": [
        "#### 2.3.2 Iterate over rows (\\*\\*not recommended for large dataframes**)\n",
        "\n",
        "\n",
        "It is possible to browse the rows of a dataframe, but beware, iteration on a dataframe is slow. It is better to use vector operations! If you can't, you should use a callback function called with an `.apply()` function.\n",
        "\n",
        "Note: you cannot modify a dataframe on which you are looping.\n",
        "\n"
      ]
    },
    {
      "cell_type": "code",
      "execution_count": null,
      "metadata": {
        "id": "lue7j5EF7vLc"
      },
      "outputs": [],
      "source": [
        "## For the example, we iterate on the stations dataframe (because the history one is too big)\n",
        "for index, row in df_stations.iterrows():\n",
        "    print('ID :', row.id_velov, '\\t lat :', row.latitude,'\\t lng :', row.longitude)\n"
      ]
    },
    {
      "cell_type": "markdown",
      "metadata": {
        "id": "PXJ_tuvi7vLc"
      },
      "source": [
        "#### 2.3.3 Indexed access to the data of a DataFrame\n",
        "\n",
        "The values of the DataFrame can be accessed via indices or ranges of indices. \n",
        "The structure then behaves like a matrix. The top left cell has coordinates (0,0).\n",
        "There are different ways to do this, using `.iloc[,]` is one of the simplest solutions.\n",
        "\n",
        "Reminder: the `shape()` method is used to get the dimensions (rows and columns) of the DataFrame.\n"
      ]
    },
    {
      "cell_type": "code",
      "execution_count": null,
      "metadata": {
        "id": "HOz_UxzC7vLc"
      },
      "outputs": [],
      "source": [
        "## Access to the value located in (0,0) (first row, first column)\n",
        "df_bikes.iloc[0,0]"
      ]
    },
    {
      "cell_type": "code",
      "execution_count": null,
      "metadata": {
        "id": "AbHxKM_17vLd"
      },
      "outputs": [],
      "source": [
        "## Value located in last row, first column\n",
        "## Use of negative index\n",
        "df_bikes.iloc[-1,0]"
      ]
    },
    {
      "cell_type": "code",
      "execution_count": null,
      "metadata": {
        "id": "0KItkjt_7vLd"
      },
      "outputs": [],
      "source": [
        "## Alternative with shape, value located in last row, first column\n",
        "## shape[0] returns the number of lines (first dimension)\n",
        "## you have to reduce by -1 because the first index is equal to 0 otherwise you overflow\n",
        "df_bikes.iloc[df_bikes.shape[0]-1,0]"
      ]
    },
    {
      "cell_type": "code",
      "execution_count": null,
      "metadata": {
        "id": "_2vMMuFI7vLe"
      },
      "outputs": [],
      "source": [
        "## Display the first 5 values of all columns\n",
        "## rows => 0:5 (0 à 5 [not included])\n",
        "## columns = : (all columns)\n",
        "df_bikes.iloc[0:5,:]"
      ]
    },
    {
      "cell_type": "code",
      "execution_count": null,
      "metadata": {
        "id": "OapW-63q7vLe"
      },
      "outputs": [],
      "source": [
        "## With the negative marking, we can easily access the last 5 rows\n",
        "df_bikes.iloc[-5:,:]"
      ]
    },
    {
      "cell_type": "code",
      "execution_count": null,
      "metadata": {
        "id": "xfC-pc7J7vLe"
      },
      "outputs": [],
      "source": [
        "## 5 first rows and columns 0, 6, 7 and 8\n",
        "## we have a list of indices for the columns\n",
        "df_bikes.iloc[0:5,[0,6,7,8]]"
      ]
    },
    {
      "cell_type": "markdown",
      "metadata": {
        "id": "GqI0ti3Y7vLf"
      },
      "source": [
        "#### 2.3.4 Filtering with conditions - Queries\n",
        "\n",
        "We can isolate subsets of observations that meet criteria defined on columns. We will preferentially use the `.loc[,]` method in this context."
      ]
    },
    {
      "cell_type": "code",
      "execution_count": null,
      "metadata": {
        "id": "pgu6NQM97vLf"
      },
      "outputs": [],
      "source": [
        "## List of history data for station 'velov-10001'\n",
        "df_bikes.loc[df_bikes['id_velov']==\"velov-10001\",:]"
      ]
    },
    {
      "cell_type": "code",
      "execution_count": null,
      "metadata": {
        "id": "7tz5QX_I7vLf"
      },
      "outputs": [],
      "source": [
        "## For a set of values of the same variable we use the isin() method\n",
        "df_bikes.loc[df_bikes['id_velov'].isin(['velov-10001','velov-10002']),:]"
      ]
    },
    {
      "cell_type": "markdown",
      "metadata": {
        "id": "rJ8aqU1n7vLf"
      },
      "source": [
        "Logical operators are used to combine conditions.\n",
        "We use respectively: & for AND, | for OR, and ~ for negation.\n"
      ]
    },
    {
      "cell_type": "code",
      "execution_count": null,
      "metadata": {
        "id": "r4QU_ao17vLf"
      },
      "outputs": [],
      "source": [
        "## List of data for station 'velov-10001' and hour = 8\n",
        "df_bikes.loc[(df_bikes['id_velov']==\"velov-10001\") & (df_bikes['hour'] == 8),:]"
      ]
    },
    {
      "cell_type": "code",
      "execution_count": null,
      "metadata": {
        "id": "HlH-FFcQ7vLf"
      },
      "outputs": [],
      "source": [
        "## List of data from after July\n",
        "df_bikes.loc[(df_bikes['month'] > 7),:]"
      ]
    },
    {
      "cell_type": "code",
      "execution_count": null,
      "metadata": {
        "id": "2l_Bsl7D7vLg"
      },
      "outputs": [],
      "source": [
        "# You can display only part of the columns\n",
        "# We define the projection in a list\n",
        "colonnes = ['id_velov','time','bikes','bike_stands']\n",
        "# that we use as parameter in .loc[]\n",
        "# example with the same restriction as before\n",
        "df_bikes.loc[(df_bikes['month'] > 7),colonnes]"
      ]
    },
    {
      "cell_type": "markdown",
      "metadata": {
        "id": "xWJB2_5X7vLg"
      },
      "source": [
        "#### 2.3.5 Grouping of rows\n",
        "\n",
        "The use of `groupby()` allows access to the sub-DataFrame associated with each item of the grouping variable. It is then possible to explicitly apply further processing on these subsets of data."
      ]
    },
    {
      "cell_type": "code",
      "execution_count": null,
      "metadata": {
        "id": "LB11Bm067vLg"
      },
      "outputs": [],
      "source": [
        "# grouping data according to the station id\n",
        "g = df_bikes.groupby('id_velov')\n",
        "\n",
        "g.size()"
      ]
    },
    {
      "cell_type": "code",
      "execution_count": null,
      "metadata": {
        "id": "fg1wKdub7vLg"
      },
      "outputs": [],
      "source": [
        "# Calculate the dimension of the sub-DataFrame associated with the station 'velov_10001'\n",
        "g.get_group('velov-10001').shape"
      ]
    },
    {
      "cell_type": "markdown",
      "metadata": {
        "id": "MtD2XEvq7vLg"
      },
      "source": [
        "### 2.4. Visualization of station locations\n",
        "\n",
        "Now that you loaded the data in dataframes and see how to manipulate dataframes, you'll produce your first data viz with these data. As we have geographic data we will display them on a map.\n"
      ]
    },
    {
      "cell_type": "markdown",
      "metadata": {
        "id": "soEDFSB67vLg"
      },
      "source": [
        "#### 2.4.1 Use of GeoPandas and Plotly libraries\n",
        "\n",
        "The[GeoPandas](https://geopandas.org/) library is developped to manipulate spatial data. The particularity of GeoPandas is that it allows to manipulate spatial data as if it were traditional data.. \n",
        "\n",
        "Compared to a standard `DataFrame`, a `GeoDataFrame` has an additional column: `geometry`. As in a spatial DBMS, this column allows to store the contours (the geometry) of a geographic object. A `GeoDataFrame` object inherits the properties of a `DataFrame` but offers methods adapted to the processing of spatial data.\n",
        "\n",
        "Thus, in addition to the manipulations already possible with pandas, it will be possible to manipulate the spatial dimension: \n",
        "- calculate distances and surfaces,\n",
        "- quickly aggregate areas (grouping departments into regions for example),\n",
        "- search for an area from the coordinates of a point,\n",
        "- convert data into different projection systems,\n",
        "- display a map.\n",
        "\n",
        "For the moment we are working on the last item to produce a map of the Velo'v stations.\n",
        "\n",
        "![stations velov avec GeoPandas](https://perso.liris.cnrs.fr/lmoncla/GI-5-DSC/fig/geopandas_stations.png)\n",
        "\n",
        "* Display the vélo'v stations on a map. Use the [GeoPandas](https://geopandas.org/gallery/create_geopandas_from_pandas.html#sphx-glr-gallery-create-geopandas-from-pandas-py) library. You should get the above result."
      ]
    },
    {
      "cell_type": "code",
      "execution_count": null,
      "metadata": {
        "id": "8pJvIvLO7vLg"
      },
      "outputs": [],
      "source": [
        "## We transform the dataframe of stations into a geodataframe (https://geopandas.org/gallery/create_geopandas_from_pandas.html#sphx-glr-gallery-create-geopandas-from-pandas-py)\n",
        "gdf_stations = geopandas.GeoDataFrame(\n",
        "    df_stations, \n",
        "    geometry=geopandas.points_from_xy(df_stations.longitude, df_stations.latitude))\n"
      ]
    },
    {
      "cell_type": "code",
      "execution_count": null,
      "metadata": {
        "id": "22z8J-cv7vLh"
      },
      "outputs": [],
      "source": [
        "## Display the first rows of the geodataframe to check the existence of the geometry column\n",
        "gdf_stations.head()"
      ]
    },
    {
      "cell_type": "code",
      "execution_count": null,
      "metadata": {
        "id": "xq8ykicI7vLh"
      },
      "outputs": [],
      "source": [
        "## Display the geodataframe on a map using the scatter_mapbox() method from plotly.express\n",
        "fig = px.scatter_mapbox(gdf_stations,\n",
        "                        lat=gdf_stations.geometry.y,\n",
        "                        lon=gdf_stations.geometry.x,\n",
        "                        hover_name=\"id_velov\",\n",
        "                        zoom=12, mapbox_style=\"carto-positron\")\n",
        "\n",
        "## We remove margin around the map\n",
        "fig.update_layout(margin={\"r\":0,\"t\":0,\"l\":0,\"b\":0})\n",
        "\n",
        "## Show the map\n",
        "fig.show()"
      ]
    },
    {
      "cell_type": "markdown",
      "metadata": {
        "id": "KXnmXoTg7vLh"
      },
      "source": [
        "## 3. Data preprocessing\n",
        "\n",
        "### 3.1. Adding information\n",
        "\n",
        "\n",
        "Before we can analyze the history data, we want to add some information. For example, the initial dataset does not directly provide the trips (departures/arrivals) of the users but only the number of bikes or places available at a given time (per 5 minutes). To make an analysis of the frequentation or of the departure and arrival zones according to the time of the day or the week I calculated the departures and arrivals by 30min intervals.\n",
        "\n",
        "From the 30 minutes intervals we can for example infer the daily number.\n",
        "\n",
        "\n"
      ]
    },
    {
      "cell_type": "code",
      "execution_count": null,
      "metadata": {
        "id": "MNLbTgSk7vLh"
      },
      "outputs": [],
      "source": [
        "## Make a copy of our dataframe, to be able to return to the initial data if necessary\n",
        "df_sampled = df_bikes.copy()"
      ]
    },
    {
      "cell_type": "markdown",
      "metadata": {
        "id": "ijqcdTzj7vLh"
      },
      "source": [
        "#### 3.1.1 Calculation of the number of daily arrivals and departures\n",
        "\n",
        "\n",
        "We can make calculations directly by grouping the rows with the `groupby()` method.\n",
        "\n",
        "Which columns should be grouped together to be able to calculate the daily departures and arrivals?"
      ]
    },
    {
      "cell_type": "code",
      "execution_count": null,
      "metadata": {
        "id": "gwzaAM7g7vLh"
      },
      "outputs": [],
      "source": [
        "df_sampled.head()"
      ]
    },
    {
      "cell_type": "code",
      "execution_count": null,
      "metadata": {
        "id": "JYN4OZuG7vLi"
      },
      "outputs": [],
      "source": [
        "## The 'transform' method allows to apply a calculation to the original dataframe (not grouped). \n",
        "## In our case, we want to perform a sum on the columns departure30min and arrival30min.\n",
        "\n",
        "## Complete the list of columns\n",
        "df_sampled[\"daily_departure\"] = df_sampled.groupby([****])['departure30min'].transform('sum')\n",
        "df_sampled[\"daily_arrival\"] = df_sampled.groupby([****])['arrival30min'].transform('sum')\n"
      ]
    },
    {
      "cell_type": "code",
      "execution_count": null,
      "metadata": {
        "id": "fo5fIJf97vLi"
      },
      "outputs": [],
      "source": [
        "## Display 15 rows randomly to see the result\n",
        "df_sampled.sample(15)"
      ]
    },
    {
      "cell_type": "markdown",
      "metadata": {
        "id": "Y4ekFWgv7vLi"
      },
      "source": [
        "#### 3.1.2 Distinction between weekdays and weekends\n",
        "\n",
        "In order to analyze the data we want to be able to distinguish weekdays from weekend days, for this we need to prepare the data in order to identify the weekend days.\n",
        "\n",
        "1. We define a function that returns true when the date is a weekday and false when it is the weekend\n",
        "2. We apply this function on each row of our dataframe"
      ]
    },
    {
      "cell_type": "code",
      "execution_count": null,
      "metadata": {
        "id": "nlCai5Ey7vLi"
      },
      "outputs": [],
      "source": [
        "## The function weekDay, takes 3 parameters: the year, the month and the day\n",
        "def weekDay(year, month, day):\n",
        "    ## This method returns true if the date is a day of the week, false otherwise\n",
        "    ## Use the datetime() function and the weekday() method\n",
        "    ## https://docs.python.org/fr/3/library/datetime.html#datetime.datetime\n",
        "    \n",
        "    ****\n",
        "    \n",
        "\n",
        "## Vectorize the function in order to apply it efficiently (in terms of calculation time) on the dataframe\n",
        "isWeekDay = np.vectorize(weekDay)"
      ]
    },
    {
      "cell_type": "code",
      "execution_count": null,
      "metadata": {
        "id": "3WdXQ6X_7vLi"
      },
      "outputs": [],
      "source": [
        "## Add a new column from the result of the function applied on all the rows of the dataframe\n",
        "df_sampled['IsWeekday'] = isWeekDay(****)\n"
      ]
    },
    {
      "cell_type": "code",
      "execution_count": null,
      "metadata": {
        "id": "o7yYzVuv7vLi"
      },
      "outputs": [],
      "source": [
        "## Display a sample of the dataframe\n",
        "df_sampled.sample(10)"
      ]
    },
    {
      "cell_type": "markdown",
      "metadata": {
        "id": "j0jP7wrV7vLi"
      },
      "source": [
        "## 4. Saving the preprocessed dataset\n",
        "\n",
        "In order to be able to reuse the dataset without redoing all the processing we save it in a CSV file.\n",
        "\n",
        "Use the [to_csv()](https://pandas.pydata.org/docs/reference/api/pandas.DataFrame.to_csv.html) method from Pandas library to save the preprocessed dataframe into a CSV file. "
      ]
    },
    {
      "cell_type": "markdown",
      "metadata": {
        "id": "UR23yjKv7vLi"
      },
      "source": [
        "### 4.1 Method 1 : Export the dataframe as a csv"
      ]
    },
    {
      "cell_type": "code",
      "execution_count": null,
      "metadata": {
        "id": "4G_z8uYG7vLi"
      },
      "outputs": [],
      "source": [
        "df_sampled.to_csv('data-bikes-2.csv', index=False)"
      ]
    },
    {
      "cell_type": "markdown",
      "metadata": {
        "id": "YY9KgQ147vLj"
      },
      "source": [
        "### 4.2 Method 2 : Export the dataframe as a csv in a zip file"
      ]
    },
    {
      "cell_type": "code",
      "execution_count": null,
      "metadata": {
        "id": "AuB_Uws-7vLj"
      },
      "outputs": [],
      "source": [
        "compression_opts = dict(method='zip', archive_name='data-bikes-2.csv')  \n",
        "df_sampled.to_csv('data-bikes-2.zip', index=False, compression=compression_opts)"
      ]
    },
    {
      "cell_type": "code",
      "execution_count": null,
      "metadata": {
        "id": "SrvZRtaS7vLj"
      },
      "outputs": [],
      "source": []
    },
    {
      "cell_type": "code",
      "execution_count": null,
      "metadata": {
        "id": "ZVykcghY7vLj"
      },
      "outputs": [],
      "source": []
    },
    {
      "cell_type": "code",
      "execution_count": null,
      "metadata": {
        "id": "mY-_Vowk7vLj"
      },
      "outputs": [],
      "source": []
    }
  ],
  "metadata": {
    "kernelspec": {
      "display_name": "Python 3 (ipykernel)",
      "language": "python",
      "name": "python3"
    },
    "language_info": {
      "codemirror_mode": {
        "name": "ipython",
        "version": 3
      },
      "file_extension": ".py",
      "mimetype": "text/x-python",
      "name": "python",
      "nbconvert_exporter": "python",
      "pygments_lexer": "ipython3",
      "version": "3.9.13"
    },
    "vscode": {
      "interpreter": {
        "hash": "4c1a0333fc97fefd4ce94a1c8087d31dccee1782a1c25c68ad4f13412d9023b3"
      }
    },
    "colab": {
      "provenance": [],
      "collapsed_sections": [
        "2Q9-57UU7vLU",
        "6x-oxYnP7vLZ",
        "Aze69IAR7vLb",
        "PXJ_tuvi7vLc",
        "GqI0ti3Y7vLf",
        "xWJB2_5X7vLg",
        "MtD2XEvq7vLg",
        "soEDFSB67vLg",
        "ijqcdTzj7vLh",
        "Y4ekFWgv7vLi",
        "UR23yjKv7vLi",
        "YY9KgQ147vLj"
      ]
    }
  },
  "nbformat": 4,
  "nbformat_minor": 0
}