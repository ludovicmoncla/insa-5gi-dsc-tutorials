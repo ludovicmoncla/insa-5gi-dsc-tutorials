{
 "cells": [
  {
   "cell_type": "markdown",
   "metadata": {},
   "source": [
    "![INSA](https://gi.insa-lyon.fr/sites/all/themes/insa_satellites/logo.png)\n",
    "\n",
    "# GI-5-DSC - Data Science: Data analysis and visualization\n",
    "***\n",
    "\n",
    "\n",
    "The objective of this part of the tutorial are the following:\n",
    "\n",
    "\n",
    "* Data analysis: query the dataset to draw graphs and maps\n",
    "\n",
    "\n",
    "\n",
    "\n"
   ]
  },
  {
   "cell_type": "markdown",
   "metadata": {},
   "source": [
    "## 1. Set up the environment: import libraries"
   ]
  },
  {
   "cell_type": "code",
   "execution_count": null,
   "metadata": {},
   "outputs": [],
   "source": [
    "import pandas as pd\n",
    "import numpy as np\n",
    "import matplotlib.pyplot as plt\n",
    "from datetime import datetime, timezone\n",
    "\n",
    "import folium\n",
    "import plotly\n",
    "import plotly.express as px\n",
    "import geopandas"
   ]
  },
  {
   "cell_type": "markdown",
   "metadata": {},
   "source": [
    "## 2. Getting the data\n",
    "\n",
    "First, the dataset must be loaded. \n",
    "On the one hand the data set containing the locations of the stations and on the other hand the usage history. \n",
    "The second one has been modified during the previous session. In order not to have to redo all the processing you can retrieve the `data-bikes-2.zip` archive directly.\n",
    "\n",
    "\n",
    "All the data used in this tutorial is available on the [git repository](https://github.com/ludovicmoncla/insa-5gi-dsc-tutorials/tree/main/data) and on [Moodle](https://moodle.insa-lyon.fr/course/view.php?id=4628). \n",
    "\n",
    "\n",
    "* Download the datasets\n",
    "1. data-stations.zip\n",
    "2. data-bikes-2.zip\n"
   ]
  },
  {
   "cell_type": "markdown",
   "metadata": {},
   "source": [
    "### 2.1. Loading the data\n",
    "\n",
    "As last time, to load the data you just have to use the method [read_csv()](https://pandas.pydata.org/pandas-docs/stable/reference/api/pandas.read_csv.html#pandas.read_csv) from the `Pandas` library. \n",
    "It takes as a parameter the path of the file you want to load. This file can be of 2 formats, either directly a CSV file, or a ZIP file containing a CSV. In our case it is therefore unnecessary to unzip the previously downloaded archives."
   ]
  },
  {
   "cell_type": "code",
   "execution_count": null,
   "metadata": {
    "tags": []
   },
   "outputs": [],
   "source": [
    "## We load the data from the stations into a dataframe\n",
    "df_stations = pd.read_csv('data/data-stations.zip')\n",
    "\n",
    "## We now load the dataframe with the history data\n",
    "df_bikes = pd.read_csv('data/data-bikes-2.zip')"
   ]
  },
  {
   "cell_type": "code",
   "execution_count": null,
   "metadata": {},
   "outputs": [],
   "source": [
    "## Display the first rows\n",
    "df_stations.head()"
   ]
  },
  {
   "cell_type": "code",
   "execution_count": null,
   "metadata": {},
   "outputs": [],
   "source": [
    "## Display the first rows\n",
    "df_bikes.head()"
   ]
  },
  {
   "cell_type": "markdown",
   "metadata": {},
   "source": [
    "### 2.2. Premier apercu des données d'historique"
   ]
  },
  {
   "cell_type": "code",
   "execution_count": null,
   "metadata": {},
   "outputs": [],
   "source": [
    "## Display information about the data\n",
    "df_bikes.info()"
   ]
  },
  {
   "cell_type": "code",
   "execution_count": null,
   "metadata": {},
   "outputs": [],
   "source": [
    "# Reduce the size in memory\n",
    "\n",
    "df_bikes[['year', 'daily_departure', 'daily_arrival']] = df_bikes[['year', 'daily_departure', 'daily_arrival']].astype('int16')\n",
    "df_bikes[['month','day','hour','minute', 'bikes', 'bike_stands', 'departure30min','arrival30min']] = df_bikes[['month','day','hour','minute', 'bikes', 'bike_stands', 'departure30min','arrival30min']].astype('int8')\n"
   ]
  },
  {
   "cell_type": "code",
   "execution_count": null,
   "metadata": {},
   "outputs": [],
   "source": [
    "## On affiche les information sur les données\n",
    "df_bikes.info()"
   ]
  },
  {
   "cell_type": "markdown",
   "metadata": {},
   "source": [
    "## 3.Query and visualization of data\n",
    "\n",
    "In the previous session, we saw how to prepare and manipulate data. Now we can focus on querying and visualizing the data."
   ]
  },
  {
   "cell_type": "code",
   "execution_count": null,
   "metadata": {},
   "outputs": [],
   "source": [
    "## We start by making a copy of our DataFrame, to be able to return to the initial data if necessary\n",
    "df_sampled = df_bikes.copy()"
   ]
  },
  {
   "cell_type": "markdown",
   "metadata": {},
   "source": [
    "### 3.1 Graphs (time dimension)\n",
    "\n",
    "In order to obtain a first distribution of the data, we wish to display on a graph the cumulative sum of the departures (or arrivals) according to the hours of the day (by 30 minutes).\n",
    "\n",
    "#### 3.1.1 Display of departures and arrivals (cumulative sum)"
   ]
  },
  {
   "cell_type": "code",
   "execution_count": null,
   "metadata": {},
   "outputs": [],
   "source": [
    "## We group the dataframe rows according to the 'hour' and 'minute' columns\n",
    "## and sum the values of the 'departure30min' column\n",
    "values_departure = df_sampled.groupby(['hour', 'minute'])['departure30min'].sum().values\n",
    "values_arrival = df_sampled.groupby(['hour', 'minute'])['arrival30min'].sum().values\n",
    "\n",
    "## We get the max value to limit the ordinate axis\n",
    "y_max = max(max(values_departure), max(values_arrival))\n",
    "\n",
    "## We set the visible values of the x-axis\n",
    "## The default values are not suitable in our case\n",
    "x_labels = [0,'','','','','',3,'','','','','',6,'','','','','',9,'','','','','',12,'','','','','',15,'','','','','',18,'','','','','',21,'','','','','']\n",
    "\n",
    "## We create the figure which will contain the 2 graphs (departures and arrivals) (we use the matplotlib library)\n",
    "fig = plt.figure(figsize=(12, 8))\n",
    "## We use the subplot method to create the 2 graphs.\n",
    "## Subplot() takes 3 parameters: number of rows, number of columns et number of the plot\n",
    "plt.subplot(2,1,1)\n",
    "plt.bar(range(len(values_departure)), values_departure)\n",
    "plt.ylabel('departures')\n",
    "plt.xticks(range(len(values_departure)), x_labels, rotation='vertical')\n",
    "plt.ylim([0, y_max])\n",
    "plt.title('Cumulative sum of departures over the period')\n",
    "\n",
    "## We create the second graph\n",
    "plt.subplot(2,1,2)\n",
    "plt.bar(range(len(values_arrival)), values_arrival)\n",
    "plt.ylabel('arrivals')\n",
    "plt.xticks(range(len(values_arrival)), x_labels, rotation='vertical')\n",
    "plt.ylim([0, y_max])\n",
    "plt.title('Cumulative sum of arrivals over the period')\n",
    "\n",
    "## We add some space between the two graphs\n",
    "plt.subplots_adjust(hspace=0.5)\n",
    "\n",
    "## We display the graphs\n",
    "plt.show()"
   ]
  },
  {
   "cell_type": "markdown",
   "metadata": {},
   "source": [
    "#### 3.1.2 Weekday and weekend comparison\n",
    "\n",
    "Using the previous code, propose a solution to compare weekdays and weekends.\n"
   ]
  },
  {
   "cell_type": "code",
   "execution_count": null,
   "metadata": {},
   "outputs": [],
   "source": [
    "#**** To be completed\n",
    "\n",
    "\n",
    "\n",
    "\n",
    "\n",
    "\n",
    "\n",
    "\n"
   ]
  },
  {
   "cell_type": "markdown",
   "metadata": {},
   "source": [
    "#### 3.1.3 Comparison of school vacations, non-holidays, covid-19 lock-down, summer, etc....\n",
    "\n",
    "We now wish to make a comparison between several weeks to analyze if some constraints had an effect on the frequentation of the Vélo'v stations:\n",
    "\n",
    "\n",
    "* week of February 15 to 21: school vacations\n",
    "* week of April 4 to 11: curfew + work from home\n",
    "* week of August 2 to 8: summer\n"
   ]
  },
  {
   "cell_type": "code",
   "execution_count": null,
   "metadata": {},
   "outputs": [],
   "source": [
    "#**** To be completed\n",
    "# We do it only for departure\n",
    "\n",
    "\n",
    "\n",
    "\n",
    "\n",
    "\n",
    "\n",
    "\n"
   ]
  },
  {
   "cell_type": "markdown",
   "metadata": {},
   "source": [
    "Beaucoup d'autres analyses sont possibles comme par exemple, étudier l'impact de la météo (pluie, neige, température), d'une grève des transports, des vacances scolaires, des fêtes ou soirées de réveillon, etc.\n",
    "\n"
   ]
  },
  {
   "cell_type": "markdown",
   "metadata": {},
   "source": [
    "#### 3.1.4 Cumulative departures per day over a month"
   ]
  },
  {
   "cell_type": "code",
   "execution_count": null,
   "metadata": {},
   "outputs": [],
   "source": [
    "#**** To be completed\n",
    "\n",
    "\n",
    "\n"
   ]
  },
  {
   "cell_type": "markdown",
   "metadata": {},
   "source": [
    "### 3.2 Maps (spatial dimension)"
   ]
  },
  {
   "cell_type": "markdown",
   "metadata": {},
   "source": [
    "For the analysis of geographical data it will be interesting to display them in the form of a map in order to visualize their distribution and allow a better interpretation.\n",
    "\n",
    "There are several types of maps that can be generated depending on the type of information you want to display."
   ]
  },
  {
   "cell_type": "markdown",
   "metadata": {},
   "source": [
    "#### 3.2.1 Heatmap \n",
    "\n",
    "First, we propose to create a heatmap representing the density of distribution of the vélo'v stations. This is just an example of how to create such a map."
   ]
  },
  {
   "cell_type": "code",
   "execution_count": null,
   "metadata": {},
   "outputs": [],
   "source": [
    "## Get the list of station coordinates\n",
    "df_stations[['latitude', 'longitude']].values"
   ]
  },
  {
   "cell_type": "code",
   "execution_count": null,
   "metadata": {},
   "outputs": [],
   "source": [
    "from folium.plugins import HeatMap\n",
    "\n",
    "# We initialize the map with the Folium library (centered on Lyon)\n",
    "Lyon = [45.76, 4.85]\n",
    "m = folium.Map(location=Lyon, zoom_start = 13) \n",
    "\n",
    "# We get the list of lat/lon coordinates of the stations\n",
    "heat_data = ****\n",
    "\n",
    "# We call the HeatMap function of the folium library with the list of coordinates and we add it to the map\n",
    "HeatMap(heat_data).add_to(m)\n",
    "\n",
    "# We display the map\n",
    "m"
   ]
  },
  {
   "cell_type": "markdown",
   "metadata": {},
   "source": [
    "Now we want to create a map that would make more sense than just displaying the density of station locations. In particular, we want to display the localized densities of departures according to the different districts.\n"
   ]
  },
  {
   "cell_type": "markdown",
   "metadata": {},
   "source": [
    "#### 3.2.2 Display geometries\n",
    "\n",
    "We now want to be able to distinguish the different districts of the metropolis and obtain a result like on the image below.\n",
    "\n",
    "![quartiers du grand lyon](https://perso.liris.cnrs.fr/lmoncla/GEONUM/fig/quartiers_lyon.png)\n",
    "\n",
    "To do this, we will retrieve the geometry of the different districts of the city and display them on the map.\n",
    "We are going to experiment 2 display methods depending on the library used: \n",
    "1. GeoJSON layer displayed with the Folium library\n",
    "2. GeoJSON layer displayed with GeoPandas and Plotly\n",
    "\n",
    "\n",
    "Download the geometries of the districts of Lyon (\n",
    "https://www.data.gouv.fr/fr/datasets/quartiers-des-communes-de-la-metropole-de-lyon/).\n",
    "\n",
    "The geojson file `adr_voie_lieu.adrquartier.json` is already on the [git repository](https://github.com/ludovicmoncla/insa-5gi-dsc-tutorials/tree/main/data) and on [Moodle](https://moodle.insa-lyon.fr/course/view.php?id=4628).\n",
    "\n"
   ]
  },
  {
   "cell_type": "markdown",
   "metadata": {},
   "source": [
    "##### Display the geojson layer with the Folium library\n",
    "\n",
    " - Use the [documentation](https://python-visualization.github.io/folium/quickstart.html#GeoJSON/TopoJSON-Overlays) of the Folium library to add the geosjon layer to your map."
   ]
  },
  {
   "cell_type": "code",
   "execution_count": null,
   "metadata": {},
   "outputs": [],
   "source": [
    "## We initialize the path to the geojson file\n",
    "jsonfile = \"data/adr_voie_lieu.adrquartier.json\"\n",
    "\n",
    "## We initialize the map with Folium\n",
    "m = folium.Map(location = Lyon, zoom_start = 12, tiles = \"CartoDB positron\")\n",
    "\n",
    "## We add the geojson layer from our file which contains the geometries of the districts\n",
    "****\n",
    "\n",
    "## We add the control layer for the interaction with the map\n",
    "folium.LayerControl().add_to(m)\n",
    "\n",
    "## We display the map\n",
    "m"
   ]
  },
  {
   "cell_type": "markdown",
   "metadata": {},
   "source": [
    "##### Display the geojson layer with GeoPandas et Plotly"
   ]
  },
  {
   "cell_type": "code",
   "execution_count": null,
   "metadata": {},
   "outputs": [],
   "source": [
    "## We initialize the path to the geojson file\n",
    "jsonfile = \"data/adr_voie_lieu.adrquartier.json\"\n",
    "\n",
    "## We load the GeoJSON file which contains the geometries in a geodataframe\n",
    "gdf_districts_json = geopandas.read_file(jsonfile)\n",
    "\n",
    "## We display the first rows\n",
    "gdf_districts_json.head()"
   ]
  },
  {
   "cell_type": "code",
   "execution_count": null,
   "metadata": {},
   "outputs": [],
   "source": [
    "## We initialize a map with the choropleth_mapbox() method of the Plotly Express library.\n",
    "## Refer to the documentation for the description of the parameters\n",
    "## https://plotly.github.io/plotly.py-docs/generated/plotly.express.choropleth_mapbox.html\n",
    "\n",
    "fig = px.choropleth_mapbox(gdf_districts_json, \n",
    "                           geojson=gdf_districts_json, \n",
    "                           locations=gdf_districts_json.index, \n",
    "                           mapbox_style=\"carto-positron\",\n",
    "                           zoom=12, center = {\"lat\": Lyon[0], \"lon\": Lyon[1]},\n",
    "                           opacity=0.5\n",
    "                          )\n",
    "\n",
    "## Remove margins\n",
    "fig.update_layout(margin={\"r\":0,\"t\":0,\"l\":0,\"b\":0})\n",
    "\n",
    "## Display the map\n",
    "fig.show()\n"
   ]
  },
  {
   "cell_type": "markdown",
   "metadata": {},
   "source": [
    "#### 3.2.3 Colored thematic map (choropleth map)\n",
    "\n",
    "Now that we have retrieved and displayed the districts we want to add information associated with these districts. To start with, we want to generate a map where the color of each polygon depends on the number of stations present in the area.\n",
    "\n",
    "To do this, we need to assign to each station the identifier of the zone to which it belongs.\n",
    "\n",
    "We use the `contains()` method of the GeoPandas library https://geopandas.org/reference.html#geopandas.GeoSeries.contains to associate the id of the corresponding zone to each station."
   ]
  },
  {
   "cell_type": "code",
   "execution_count": null,
   "metadata": {},
   "outputs": [],
   "source": [
    "## We import the Point() function from the Shapely library \n",
    "## which allows to create a variable of type Point from the coordinates lat/lng\n",
    "from shapely.geometry import Point\n",
    "\n",
    "## We define a function that takes as parameters the latitude and longitude of a station \n",
    "## and returns the identity of the corresponding zone\n",
    "def get_gid(latitude, longitude):\n",
    "    \n",
    "    ## We create a Point object from the coordinates\n",
    "    pt = Point(float(longitude),float(latitude))\n",
    "    \n",
    "    ## We filter our dataframe of neighborhood geometries \n",
    "    ## to keep only the geometries that contain the point\n",
    "    zone_found = ****\n",
    "    \n",
    "    ## If there is at least one district returned by the query then the function returns the identifier of the first\n",
    "    if len(zone_found) > 0:\n",
    "        return str(zone_found.iloc[0].gid)\n",
    "    \n",
    "    return None"
   ]
  },
  {
   "cell_type": "code",
   "execution_count": null,
   "metadata": {},
   "outputs": [],
   "source": [
    "df_stations.head()"
   ]
  },
  {
   "cell_type": "code",
   "execution_count": null,
   "metadata": {},
   "outputs": [],
   "source": [
    "## We add a column with the gid of the area to our stations dataframe\n",
    "df_stations['gid'] = df_stations.apply(lambda row : get_gid(row.latitude, row.longitude), axis=1)\n",
    "\n",
    "## Display the first rows to check the addition of the column\n",
    "df_stations.head()"
   ]
  },
  {
   "cell_type": "code",
   "execution_count": null,
   "metadata": {},
   "outputs": [],
   "source": [
    "## Now we want to group the stations by zone\n",
    "## and retrieve for each area, the number of stations it contains\n",
    "nb_stations_per_zone = ****\n",
    "\n",
    "nb_stations_per_zone.head()"
   ]
  },
  {
   "cell_type": "markdown",
   "metadata": {},
   "source": [
    "It remains to display this data as a choropleth map. Take inspiration from the previous code. Refer to the [documentation](https://plotly.github.io/plotly.py-docs/generated/plotly.express.choropleth_mapbox.html) to know which parameters to modify or add."
   ]
  },
  {
   "cell_type": "code",
   "execution_count": null,
   "metadata": {},
   "outputs": [],
   "source": [
    "# to be completed\n",
    "\n",
    "\n",
    "\n",
    "\n",
    "\n",
    "\n",
    "\n",
    "\n"
   ]
  },
  {
   "cell_type": "markdown",
   "metadata": {},
   "source": [
    "# Exercices\n",
    "\n",
    "## A.1 Thematic map showing number of departures\n",
    "\n",
    "We want to reproduce the same type of map as before, but this time instead of simply displaying the number of stations, we want to display the cumulative number of departures for the stations in each neighborhood.\n",
    "\n",
    "\n",
    "The problem is that we do not have the latitudes and longitudes in the history dataframe. We must therefore first make a [join](https://pandas.pydata.org/pandas-docs/stable/reference/api/pandas.DataFrame.merge.html) between our 2 dataframes to associate each line of the history with the location of the station considered."
   ]
  },
  {
   "cell_type": "code",
   "execution_count": null,
   "metadata": {},
   "outputs": [],
   "source": [
    "## We make the join between our 2 dataframes\n",
    "df_hist_merged = ****"
   ]
  },
  {
   "cell_type": "code",
   "execution_count": null,
   "metadata": {},
   "outputs": [],
   "source": [
    "df_hist_merged.head()"
   ]
  },
  {
   "cell_type": "code",
   "execution_count": null,
   "metadata": {},
   "outputs": [],
   "source": [
    "## We calculate the sum of the departures of each zone for each step of 30 minutes (for the whole period considered)\n",
    "df_hist_sum = pd.DataFrame(df_hist_merged.groupby([****])['departure30min'].sum().reset_index(name = \"sum\"))\n",
    "\n",
    "## to be completed\n",
    "\n",
    "\n",
    "\n",
    "\n",
    "\n"
   ]
  },
  {
   "cell_type": "markdown",
   "metadata": {},
   "source": [
    "## A.2 Thematic map showing the number of departures on a weekend day"
   ]
  },
  {
   "cell_type": "code",
   "execution_count": null,
   "metadata": {},
   "outputs": [],
   "source": [
    "## to be completed\n",
    "\n",
    "\n"
   ]
  },
  {
   "cell_type": "markdown",
   "metadata": {},
   "source": [
    "## A.3 Thematic map showing the number of departures in the morning (before noon)"
   ]
  },
  {
   "cell_type": "code",
   "execution_count": null,
   "metadata": {},
   "outputs": [],
   "source": [
    "## to be completed\n",
    "\n",
    "\n"
   ]
  },
  {
   "cell_type": "markdown",
   "metadata": {},
   "source": [
    "## A.4 Thematic map showing the number of afternoon departures (after noon)"
   ]
  },
  {
   "cell_type": "code",
   "execution_count": null,
   "metadata": {},
   "outputs": [],
   "source": [
    "## to be completed\n",
    "\n",
    "\n"
   ]
  },
  {
   "cell_type": "markdown",
   "metadata": {},
   "source": [
    "### 3.3 Example of animated maps\n",
    "\n",
    "We now wish to be able to generate animated maps allowing to visualize the spatial and temporal dimensions in a dynamic way.\n",
    "\n",
    "In the following cell we used this example https://towardsdatascience.com/how-to-animate-scatterplots-on-mapbox-using-plotly-express-3bb49fe6a5d to build an animated map from the departure history for a specific day.\n",
    "\n",
    "These resources are also useful to build such maps:\n",
    " - https://plotly.com/python/bubble-maps/\n",
    " - https://plotly.github.io/plotly.py-docs/generated/plotly.express.scatter_mapbox.html"
   ]
  },
  {
   "cell_type": "code",
   "execution_count": null,
   "metadata": {},
   "outputs": [],
   "source": [
    "df_tmp = df_hist_merged.loc[(df_hist_merged['day'] == 6) & (df_hist_merged['month'] == 12) & (df_hist_merged['year'] == 2021)]\n",
    "\n",
    "fig = px.scatter_mapbox(df_tmp, lat=\"latitude\", lon=\"longitude\", color=\"departure30min\",\n",
    "                     hover_name=\"id_velov\", size=\"departure30min\",\n",
    "                     center={'lat':45.76, 'lon':4.85}, zoom=11,\n",
    "                     animation_frame=\"time\", mapbox_style=\"carto-positron\")\n",
    "fig.update_layout(margin={\"r\":0,\"l\":0,\"b\":0})\n",
    "fig.show()"
   ]
  }
 ],
 "metadata": {
  "kernelspec": {
   "display_name": "Python 3.8.5 64-bit ('anaconda3')",
   "language": "python",
   "name": "python3"
  },
  "language_info": {
   "codemirror_mode": {
    "name": "ipython",
    "version": 3
   },
   "file_extension": ".py",
   "mimetype": "text/x-python",
   "name": "python",
   "nbconvert_exporter": "python",
   "pygments_lexer": "ipython3",
   "version": "3.8.5"
  },
  "vscode": {
   "interpreter": {
    "hash": "5a66862d1e699d22749b730d4d12326d6986b018faa2bf0b5fca0506fffc064f"
   }
  }
 },
 "nbformat": 4,
 "nbformat_minor": 4
}
